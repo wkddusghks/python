{
  "nbformat": 4,
  "nbformat_minor": 0,
  "metadata": {
    "colab": {
      "provenance": [],
      "authorship_tag": "ABX9TyN8BoLZgZ8cjHwdmyUmIwOp",
      "include_colab_link": true
    },
    "kernelspec": {
      "name": "python3",
      "display_name": "Python 3"
    },
    "language_info": {
      "name": "python"
    }
  },
  "cells": [
    {
      "cell_type": "markdown",
      "metadata": {
        "id": "view-in-github",
        "colab_type": "text"
      },
      "source": [
        "<a href=\"https://colab.research.google.com/github/wkddusghks/python/blob/main/%EA%B3%BC%EC%A0%9C7.ipynb\" target=\"_parent\"><img src=\"https://colab.research.google.com/assets/colab-badge.svg\" alt=\"Open In Colab\"/></a>"
      ]
    },
    {
      "cell_type": "code",
      "execution_count": 4,
      "metadata": {
        "colab": {
          "base_uri": "https://localhost:8080/"
        },
        "id": "ceCigtxnXUsu",
        "outputId": "46365c0a-c8aa-41c6-df4a-4ff328be1811"
      },
      "outputs": [
        {
          "output_type": "stream",
          "name": "stdout",
          "text": [
            "100보다 큽니다.\n",
            "끝\n"
          ]
        }
      ],
      "source": [
        "num = 200\n",
        "if num > 100 :\n",
        "  print(\"100보다 큽니다.\")\n",
        "  print(\"끝\")"
      ]
    },
    {
      "cell_type": "code",
      "source": [
        "num = int(input(\"정수를 입력 : \"))\n",
        "if num % 2 == 0 :\n",
        "  print(\"짝수\")\n",
        "else :\n",
        "  print(\"홀수\")"
      ],
      "metadata": {
        "id": "CXt3SUebYH6O"
      },
      "execution_count": null,
      "outputs": []
    },
    {
      "cell_type": "code",
      "source": [
        "num = int(input(\"숫자를 입력 : \"))\n",
        "if num >= 100 :\n",
        "  if num <= 1000 :\n",
        "    print(\"100에서 1000사이다\")\n",
        "  else :\n",
        "    print(\"1000보다 크다\")\n",
        "else :\n",
        "  print(\"100보다 작다\")"
      ],
      "metadata": {
        "colab": {
          "base_uri": "https://localhost:8080/"
        },
        "id": "E4TEjxLaZNk-",
        "outputId": "db70a42c-aaa1-47b9-d543-7a8a11148867"
      },
      "execution_count": 8,
      "outputs": [
        {
          "output_type": "stream",
          "name": "stdout",
          "text": [
            "숫자를 입력 : 102\n",
            "100에서 1000사이다\n"
          ]
        }
      ]
    },
    {
      "cell_type": "code",
      "source": [
        "score = int(input(\"점수를 입력 : \"))\n",
        "if score >= 90 :\n",
        "  print(\"A 학점입니다\")\n",
        "else :\n",
        "  if score >= 80 :\n",
        "    print(\"B 학점입니다\")\n",
        "  else :\n",
        "    if score >= 70 :\n",
        "      print(\"C 학점입니다\")\n",
        "    else :\n",
        "      if score >= 60 :\n",
        "        print(\"D 학점입니다\")\n",
        "      else :\n",
        "        print(\"F 학점입니다\")"
      ],
      "metadata": {
        "colab": {
          "base_uri": "https://localhost:8080/"
        },
        "id": "7q0GaadqcM-f",
        "outputId": "a31c5b85-a2e9-49ed-975c-996bf1e9607a"
      },
      "execution_count": 15,
      "outputs": [
        {
          "output_type": "stream",
          "name": "stdout",
          "text": [
            "점수를 입력 : 99\n",
            "A 학점입니다\n"
          ]
        }
      ]
    }
  ]
}