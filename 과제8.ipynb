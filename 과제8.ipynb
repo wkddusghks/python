{
  "nbformat": 4,
  "nbformat_minor": 0,
  "metadata": {
    "colab": {
      "provenance": [],
      "authorship_tag": "ABX9TyNN42c8B5ySctqW8c5OnEUa",
      "include_colab_link": true
    },
    "kernelspec": {
      "name": "python3",
      "display_name": "Python 3"
    },
    "language_info": {
      "name": "python"
    }
  },
  "cells": [
    {
      "cell_type": "markdown",
      "metadata": {
        "id": "view-in-github",
        "colab_type": "text"
      },
      "source": [
        "<a href=\"https://colab.research.google.com/github/wkddusghks/python/blob/main/%EA%B3%BC%EC%A0%9C8.ipynb\" target=\"_parent\"><img src=\"https://colab.research.google.com/assets/colab-badge.svg\" alt=\"Open In Colab\"/></a>"
      ]
    },
    {
      "cell_type": "code",
      "execution_count": null,
      "metadata": {
        "id": "5ZUyvTszXkwP"
      },
      "outputs": [],
      "source": [
        "import random\n",
        "\n",
        "rudNumber = random.randint(1,45)\n",
        "\n",
        "print(rudNumber)\n"
      ]
    },
    {
      "cell_type": "code",
      "source": [
        "import random\n",
        "lottoNumber = [0,0,0,0,0,0]\n",
        "\n",
        "for i in range(6):\n",
        "  lottoNumber[i] = random.randint(1,45)\n",
        "for i in range(6):\n",
        "  print(lottoNumber[i], end = \" \")\n"
      ],
      "metadata": {
        "id": "WKNaKiZ3Yvrf"
      },
      "execution_count": null,
      "outputs": []
    },
    {
      "cell_type": "code",
      "source": [
        "import random\n",
        "\n",
        "foods = [\"떡볶이\", \"순대\", \"소고기\", \"쿠키\", \"라면\"]\n",
        "\n",
        "result = random.choice(foods)\n",
        "print(result)"
      ],
      "metadata": {
        "colab": {
          "base_uri": "https://localhost:8080/"
        },
        "id": "_Bmgk7W_bnkv",
        "outputId": "efab68e0-7fab-4245-f6d7-57a0834cf26e"
      },
      "execution_count": 32,
      "outputs": [
        {
          "output_type": "stream",
          "name": "stdout",
          "text": [
            "쿠키\n"
          ]
        }
      ]
    },
    {
      "cell_type": "code",
      "source": [
        "import random\n",
        "computer = \"\"\n",
        "player = input(\"나의 가위/바위/보 : \")\n",
        "computer = random.choice([\"가위\", \"바위\", \"보\"])\n",
        "if player == computer:\n",
        "  print(computer, \"무승부\")\n",
        "elif (player == \"가위\" and computer == \"보\") or \\\n",
        "(player == \"바위\" and computer == \"가위\") or \\\n",
        "(player == \"보\" and computer == \"바위\") :\n",
        "  print(computer, \"승리\")\n",
        "else :\n",
        "  print(computer,\"패배\")\n",
        "  "
      ],
      "metadata": {
        "colab": {
          "base_uri": "https://localhost:8080/"
        },
        "id": "QY3gkAmTc6R4",
        "outputId": "4cd680d9-5f8b-46dc-94a0-c3d7beb5b33a"
      },
      "execution_count": 38,
      "outputs": [
        {
          "output_type": "stream",
          "name": "stdout",
          "text": [
            "나의 가위/바위/보 : 가위\n",
            "가위 무승부\n"
          ]
        }
      ]
    }
  ]
}