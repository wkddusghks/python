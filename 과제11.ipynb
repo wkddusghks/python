{
  "nbformat": 4,
  "nbformat_minor": 0,
  "metadata": {
    "colab": {
      "provenance": [],
      "authorship_tag": "ABX9TyNsTEMyHuAiYbRzJ1rwKnnu",
      "include_colab_link": true
    },
    "kernelspec": {
      "name": "python3",
      "display_name": "Python 3"
    },
    "language_info": {
      "name": "python"
    }
  },
  "cells": [
    {
      "cell_type": "markdown",
      "metadata": {
        "id": "view-in-github",
        "colab_type": "text"
      },
      "source": [
        "<a href=\"https://colab.research.google.com/github/wkddusghks/python/blob/main/%EA%B3%BC%EC%A0%9C11.ipynb\" target=\"_parent\"><img src=\"https://colab.research.google.com/assets/colab-badge.svg\" alt=\"Open In Colab\"/></a>"
      ]
    },
    {
      "cell_type": "code",
      "execution_count": 20,
      "metadata": {
        "colab": {
          "base_uri": "https://localhost:8080/"
        },
        "id": "K-oI2qX_emcL",
        "outputId": "f6c94770-20cd-4c8f-ea06-409772cf19c9"
      },
      "outputs": [
        {
          "output_type": "stream",
          "name": "stdout",
          "text": [
            "숫자 : 10\n",
            "숫자 : 20\n",
            "숫자 : 30\n",
            "숫자 : 40\n",
            "숫자 : 50\n",
            "리스트의 합계 :  150\n"
          ]
        }
      ],
      "source": [
        "numlist = [0, 0, 0, 0, 0]\n",
        "\n",
        "numlist[0] = int(input(\"숫자 : \"))\n",
        "numlist[1] = int(input(\"숫자 : \"))\n",
        "numlist[2] = int(input(\"숫자 : \"))\n",
        "numlist[3] = int(input(\"숫자 : \"))\n",
        "numlist[4] = int(input(\"숫자 : \"))\n",
        "\n",
        "sum = numlist[0] + numlist[1] + numlist[2] + numlist[3] + numlist[4]\n",
        "print(\"리스트의 합계 : \", sum)"
      ]
    },
    {
      "cell_type": "code",
      "source": [
        "mylist = []\n",
        "\n",
        "mylist.append(\"안산\")\n",
        "mylist.append(\"공고\")\n",
        "mylist.append(3100)\n",
        "mylist.append(777)\n",
        "\n",
        "print(mylist)"
      ],
      "metadata": {
        "colab": {
          "base_uri": "https://localhost:8080/"
        },
        "id": "pee2njTRsm23",
        "outputId": "4f56344e-9b75-41ad-ec0e-2f465fe7139c"
      },
      "execution_count": 19,
      "outputs": [
        {
          "output_type": "stream",
          "name": "stdout",
          "text": [
            "['안산', '공고', 3100, 777]\n"
          ]
        }
      ]
    },
    {
      "cell_type": "code",
      "source": [
        "import random\n",
        "wiseSay = [\"중요한 것은 꺽이지 않는 마음\", \"너 자신을 알라\", \"피할 수 없으면 즐겨라\", \"신은 용기있는자를 결코 버리지 않는다\", \"내일은 내일의 태양이 뜬다\", \"이 또한 지나가리라\"]\n",
        "\n",
        "rnd_say = random.sample(wiseSay, 1)\n",
        "print(\"오늘의 명언 ==>\", rnd_say)"
      ],
      "metadata": {
        "colab": {
          "base_uri": "https://localhost:8080/"
        },
        "id": "SOWcIk6Vtruf",
        "outputId": "6c4ec97a-cf7d-4dfa-d13e-178f0075768b"
      },
      "execution_count": 18,
      "outputs": [
        {
          "output_type": "stream",
          "name": "stdout",
          "text": [
            "오늘의 명언 ==> ['피할 수 없으면 즐겨라']\n"
          ]
        }
      ]
    },
    {
      "cell_type": "code",
      "source": [
        "import random\n",
        "wiseSay = [\"중요한 것은 꺽이지 않는 마음\", \"너 자신을 알라\", \"피할 수 없으면 즐겨라\", \"신은 용기있는자를 결코 버리지 않는다\", \"내일은 내일의 태양이 뜬다\", \"이 또한 지나가리라\", \"명언이 하나 더 늘었다\"]\n",
        "\n",
        "rnd = random.randint(0, len(wiseSay) - 1)\n",
        "rnd_say = wiseSay[rnd]\n",
        "print(\"오늘의 명언 ==>\", rnd_say)"
      ],
      "metadata": {
        "colab": {
          "base_uri": "https://localhost:8080/"
        },
        "id": "T_2y9_DvxX6I",
        "outputId": "ae35cbc3-5e81-43cf-bae0-c26fb8373491"
      },
      "execution_count": 17,
      "outputs": [
        {
          "output_type": "stream",
          "name": "stdout",
          "text": [
            "오늘의 명언 ==> 이 또한 지나가리라\n"
          ]
        }
      ]
    },
    {
      "cell_type": "code",
      "source": [
        "import datetime\n",
        "\n",
        "now = datetime.date.today()\n",
        "birthday = datetime.date(2005,12,3)\n",
        "age = now - birthday\n",
        "print(age.days/365)"
      ],
      "metadata": {
        "colab": {
          "base_uri": "https://localhost:8080/"
        },
        "id": "nZF9VHtMzJNH",
        "outputId": "29b3079c-d046-49b7-a9d7-2c336dbd72ce"
      },
      "execution_count": 23,
      "outputs": [
        {
          "output_type": "stream",
          "name": "stdout",
          "text": [
            "17.361643835616437\n"
          ]
        }
      ]
    },
    {
      "cell_type": "code",
      "source": [
        "import datetime\n",
        "\n",
        "now = datetime.date.today()\n",
        "d_day = datetime.date(2023,11,16)\n",
        "d_day = d_day - now \n",
        "print(d_day.days)"
      ],
      "metadata": {
        "colab": {
          "base_uri": "https://localhost:8080/"
        },
        "id": "HVMWTa_s0KKX",
        "outputId": "eafb12a9-70ad-4a69-e63e-ea111980e1ad"
      },
      "execution_count": 27,
      "outputs": [
        {
          "output_type": "stream",
          "name": "stdout",
          "text": [
            "220\n"
          ]
        }
      ]
    }
  ]
}