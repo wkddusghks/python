{
  "nbformat": 4,
  "nbformat_minor": 0,
  "metadata": {
    "colab": {
      "provenance": [],
      "authorship_tag": "ABX9TyO5DNC9j5QC59P567zkgb/h",
      "include_colab_link": true
    },
    "kernelspec": {
      "name": "python3",
      "display_name": "Python 3"
    },
    "language_info": {
      "name": "python"
    }
  },
  "cells": [
    {
      "cell_type": "markdown",
      "metadata": {
        "id": "view-in-github",
        "colab_type": "text"
      },
      "source": [
        "<a href=\"https://colab.research.google.com/github/wkddusghks/python/blob/main/%EA%B3%BC%EC%A0%9C6.ipynb\" target=\"_parent\"><img src=\"https://colab.research.google.com/assets/colab-badge.svg\" alt=\"Open In Colab\"/></a>"
      ]
    },
    {
      "cell_type": "code",
      "execution_count": 8,
      "metadata": {
        "colab": {
          "base_uri": "https://localhost:8080/"
        },
        "id": "uNX4S_8tJBjI",
        "outputId": "3b5e1590-8ec2-4f18-ff17-fdc538a3d10c"
      },
      "outputs": [
        {
          "output_type": "stream",
          "name": "stdout",
          "text": [
            "원본 문자열 :  트와이스\n",
            "반대 문자열 :  스이와트\n"
          ]
        }
      ],
      "source": [
        "singer = [\"트\", \"와\", \"이\", \"스\"]\n",
        "reverse_singer = singer[3] + singer[2] + singer[1] + singer[0]\n",
        "\n",
        "print(\"원본 문자열 : \", singer[0] + singer[1] + singer[2] + singer[3])\n",
        "print(\"반대 문자열 : \", reverse_singer)\n"
      ]
    },
    {
      "cell_type": "code",
      "source": [
        "singer = \"트와이스\"\n",
        "\n",
        "print(\"원본 문자열 : \", singer)\n",
        "print(\"반대 문자열 : \", singer[::-1])"
      ],
      "metadata": {
        "colab": {
          "base_uri": "https://localhost:8080/"
        },
        "id": "RkFILBxsPgnr",
        "outputId": "9fe5dc3c-47df-401f-a2b2-59fa7cd56003"
      },
      "execution_count": 9,
      "outputs": [
        {
          "output_type": "stream",
          "name": "stdout",
          "text": [
            "원본 문자열 :  트와이스\n",
            "반대 문자열 :  스이와트\n"
          ]
        }
      ]
    },
    {
      "cell_type": "code",
      "source": [
        "a = \"Python\"\n",
        "b = a[0].lower() + a[1:6].upper()\n",
        "print(\"원본 문자열 ==> \", a)\n",
        "print(\"반대 문자열 ==> \", b)"
      ],
      "metadata": {
        "colab": {
          "base_uri": "https://localhost:8080/"
        },
        "id": "BI_m1WpNQquk",
        "outputId": "73474dc6-1cdc-4d85-995d-13a7ef4cc5e3"
      },
      "execution_count": 13,
      "outputs": [
        {
          "output_type": "stream",
          "name": "stdout",
          "text": [
            "원본 문자열 ==>  Python\n",
            "반대 문자열 ==>  pYTHON\n"
          ]
        }
      ]
    }
  ]
}