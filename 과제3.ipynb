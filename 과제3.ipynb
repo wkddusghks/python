{
  "nbformat": 4,
  "nbformat_minor": 0,
  "metadata": {
    "colab": {
      "provenance": [],
      "authorship_tag": "ABX9TyPoTHY8XN0ttpSvUWNAbfJ5",
      "include_colab_link": true
    },
    "kernelspec": {
      "name": "python3",
      "display_name": "Python 3"
    },
    "language_info": {
      "name": "python"
    }
  },
  "cells": [
    {
      "cell_type": "markdown",
      "metadata": {
        "id": "view-in-github",
        "colab_type": "text"
      },
      "source": [
        "<a href=\"https://colab.research.google.com/github/wkddusghks/python/blob/main/%EA%B3%BC%EC%A0%9C3.ipynb\" target=\"_parent\"><img src=\"https://colab.research.google.com/assets/colab-badge.svg\" alt=\"Open In Colab\"/></a>"
      ]
    },
    {
      "cell_type": "code",
      "execution_count": 17,
      "metadata": {
        "colab": {
          "base_uri": "https://localhost:8080/"
        },
        "id": "Iwe0-w1JGM3S",
        "outputId": "19103712-bcd3-4b39-b57a-e4ed85a5c420"
      },
      "outputs": [
        {
          "output_type": "stream",
          "name": "stdout",
          "text": [
            "파운드(lb)를 입력하세요 : 15\n",
            "15 파운드(lb)는 6.80388  킬로그램(kg)입니다.\n",
            "킬로그램(kg)를 입력하세요 : 15\n",
            "15 킬로그램(kg)는  33.06935  파운드(lb)입니다.\n"
          ]
        }
      ],
      "source": [
        "num1 = int(input(\"파운드(lb)를 입력하세요 : \"))\n",
        "a = num1 * 0.453592\n",
        "print(num1, \"파운드(lb)는\", round(a, 5), \" 킬로그램(kg)입니다.\")\n",
        "num2 = int(input(\"킬로그램(kg)를 입력하세요 : \"))\n",
        "b = num2 * 2.204623\n",
        "print(num2, \"킬로그램(kg)는 \", round(b, 5), \" 파운드(lb)입니다.\")"
      ]
    }
  ]
}