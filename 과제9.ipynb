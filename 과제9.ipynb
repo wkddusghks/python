{
  "nbformat": 4,
  "nbformat_minor": 0,
  "metadata": {
    "colab": {
      "provenance": [],
      "authorship_tag": "ABX9TyOkfSLwDs5iC2zlA5UIUwED",
      "include_colab_link": true
    },
    "kernelspec": {
      "name": "python3",
      "display_name": "Python 3"
    },
    "language_info": {
      "name": "python"
    }
  },
  "cells": [
    {
      "cell_type": "markdown",
      "metadata": {
        "id": "view-in-github",
        "colab_type": "text"
      },
      "source": [
        "<a href=\"https://colab.research.google.com/github/wkddusghks/python/blob/main/%EA%B3%BC%EC%A0%9C9.ipynb\" target=\"_parent\"><img src=\"https://colab.research.google.com/assets/colab-badge.svg\" alt=\"Open In Colab\"/></a>"
      ]
    },
    {
      "cell_type": "code",
      "execution_count": null,
      "metadata": {
        "id": "q5CCs6zwaBP-"
      },
      "outputs": [],
      "source": [
        "for i in range(0, 3, 1):\n",
        "  print(i,\"컴퓨터과 3학년 1반\")"
      ]
    },
    {
      "cell_type": "code",
      "source": [
        "for i in [0, 1, 2, 3, 4]:\n",
        "  print(i,\"컴퓨터과 3학년 1반\")"
      ],
      "metadata": {
        "id": "eGo8zuH3dnEo"
      },
      "execution_count": null,
      "outputs": []
    },
    {
      "cell_type": "code",
      "source": [
        "for i in [\"봄\", \"여름\", \"가을\", \"겨울\"]:\n",
        "  print(i,\"컴퓨터과 3학년 1반\")"
      ],
      "metadata": {
        "id": "vArLeg09d5n3"
      },
      "execution_count": null,
      "outputs": []
    },
    {
      "cell_type": "code",
      "source": [
        "for i in range(1, 11, 1):\n",
        "  print(i,\"컴퓨터과\")"
      ],
      "metadata": {
        "id": "PkxVoF45eSZJ"
      },
      "execution_count": null,
      "outputs": []
    },
    {
      "cell_type": "code",
      "source": [
        "for i in range(2, 6, 1):\n",
        "  print(i, end = \" \")"
      ],
      "metadata": {
        "id": "yF612smRe4VY"
      },
      "execution_count": null,
      "outputs": []
    },
    {
      "cell_type": "code",
      "source": [
        "result = 1\n",
        "\n",
        "for i in range(1, 6, 1):\n",
        "  result = result * i\n",
        "\n",
        "print(\"A, B, C, D, E 학생들을 순서대로 세우는 경우의 수 :\", result)"
      ],
      "metadata": {
        "id": "5B8y_kykfGdA"
      },
      "execution_count": null,
      "outputs": []
    },
    {
      "cell_type": "code",
      "source": [
        "sum = 0\n",
        "\n",
        "for i in range(1, 11, 1):\n",
        "  sum = sum + i\n",
        "print(sum)"
      ],
      "metadata": {
        "id": "r64JZOf4h2QK"
      },
      "execution_count": null,
      "outputs": []
    },
    {
      "cell_type": "code",
      "source": [
        "odd_sum = 0\n",
        "for i in range(1001, 2001, 2):\n",
        "  odd_sum = odd_sum + i\n",
        "print(odd_sum)"
      ],
      "metadata": {
        "colab": {
          "base_uri": "https://localhost:8080/"
        },
        "id": "oLByQ989ioEa",
        "outputId": "66de6752-8a8a-414b-ee77-dde6be0f1db9"
      },
      "execution_count": 31,
      "outputs": [
        {
          "output_type": "stream",
          "name": "stdout",
          "text": [
            "750000\n"
          ]
        }
      ]
    },
    {
      "cell_type": "code",
      "source": [
        "odd_sum = 0\n",
        "for i in range(1000, 2001, 1):\n",
        "  if i % 2 == 1:\n",
        "    odd_sum = odd_sum + i\n",
        "print(odd_sum)"
      ],
      "metadata": {
        "colab": {
          "base_uri": "https://localhost:8080/"
        },
        "id": "BsVg6JKei8v5",
        "outputId": "a49dc338-08e5-4dbf-9a27-32c3825f1516"
      },
      "execution_count": 33,
      "outputs": [
        {
          "output_type": "stream",
          "name": "stdout",
          "text": [
            "750000\n"
          ]
        }
      ]
    },
    {
      "cell_type": "code",
      "source": [
        "i, hap = 0, 0\n",
        "for i in range(500, 1001, 2):\n",
        "  hap += i\n",
        "print(\"500에서 1000까지의 짝수의 합 :\", hap)"
      ],
      "metadata": {
        "colab": {
          "base_uri": "https://localhost:8080/"
        },
        "id": "wBrbiJP5julC",
        "outputId": "f9512aaf-8f6b-4340-ec0f-3e3471be2738"
      },
      "execution_count": 40,
      "outputs": [
        {
          "output_type": "stream",
          "name": "stdout",
          "text": [
            "500에서 1000까지의 짝수의 합 : 188250\n"
          ]
        }
      ]
    },
    {
      "cell_type": "code",
      "source": [
        "for i in range(3):\n",
        "  for k in range(2):\n",
        "    print(\"난생처음은 쉽습니다. ^^ (i값 :\", i,\"k값 :\", k,\")\")"
      ],
      "metadata": {
        "id": "kCJTtMe9knsi"
      },
      "execution_count": null,
      "outputs": []
    },
    {
      "cell_type": "code",
      "source": [
        "for i in range(1, 10, 1):\n",
        "  for k in range(2, 10, 1):\n",
        "    print(k, \"X\", i, \"=\", i*k, end = \"  \")\n",
        "  print(\"\\n\")"
      ],
      "metadata": {
        "id": "jdafmAdBqhCV"
      },
      "execution_count": null,
      "outputs": []
    },
    {
      "cell_type": "code",
      "source": [
        "i = 0\n",
        "while(i < 3):\n",
        "  print(i, \"컴퓨터과 3학년 1반\")\n",
        "  i = i + 1"
      ],
      "metadata": {
        "id": "rwgwJV8muDa-"
      },
      "execution_count": null,
      "outputs": []
    },
    {
      "cell_type": "code",
      "source": [
        "i = 0\n",
        "while True:\n",
        "  print(\"ㅎ\", end = \" \")\n",
        "  i = i + 1\n",
        "  if i == 10:\n",
        "    break"
      ],
      "metadata": {
        "colab": {
          "base_uri": "https://localhost:8080/"
        },
        "id": "BzovFUOZun-1",
        "outputId": "ad17ffd9-f01d-4b3f-9b87-c9ea252bdf5f"
      },
      "execution_count": 60,
      "outputs": [
        {
          "output_type": "stream",
          "name": "stdout",
          "text": [
            "ㅎ ㅎ ㅎ ㅎ ㅎ ㅎ ㅎ ㅎ ㅎ ㅎ "
          ]
        }
      ]
    },
    {
      "cell_type": "code",
      "source": [
        "def menu():\n",
        "  print(\"################\\n\")\n",
        "  print(\"# 1. 덧셈        #\")\n",
        "  print(\"# 2. 뺄셈        #\")\n",
        "  print(\"# 3. 나눗셈      #\")\n",
        "  print(\"# 4. 곱셈        #\")\n",
        "  print(\"# 5. 종료        #\")\n",
        "\n",
        "def add():\n",
        "  num1 = float(input(\"첫번째 숫자를 입력 \"))\n",
        "  num2 = float(input(\"두번째 숫자를 입력 \"))\n",
        "  sum = num1 + num2\n",
        "  return sum\n",
        "\n",
        "def sub():\n",
        "  num1 = float(input(\"첫번째 숫자를 입력 \"))\n",
        "  num2 = float(input(\"두번째 숫자를 입력 \"))\n",
        "  sub = num1 - num2\n",
        "  return sub\n",
        "\n",
        "def div():\n",
        "  num1 = float(input(\"첫번째 숫자를 입력 \"))\n",
        "  num2 = float(input(\"두번째 숫자를 입력 \"))\n",
        "  div = num1 / num2\n",
        "  return div\n",
        "\n",
        "def mul():\n",
        "  num1 = float(input(\"첫번째 숫자를 입력 \"))\n",
        "  num2 = float(input(\"두번째 숫자를 입력 \"))\n",
        "  mul = num1 *  num2\n",
        "  return mul\n",
        "\n",
        "while True :\n",
        "  menu()\n",
        "  select = int(input(\"메뉴를 선택 : \"))\n",
        "  if select == 5:\n",
        "    break\n",
        "  elif select == 1:\n",
        "    sum = add()\n",
        "    print(\"두수의 덧셈결과 :\", sum)\n",
        "  elif select == 2:\n",
        "    sub = sub()\n",
        "    print(\"두수의 뺄셈결과 :\", sub)\n",
        "  elif select == 3:\n",
        "    div = div()\n",
        "    print(\"두수의 나눗셈결과 :\", div)\n",
        "  elif select == 4:\n",
        "    mul = mul()\n",
        "    print(\"두수의 곱셈결과 :\", mul)"
      ],
      "metadata": {
        "colab": {
          "base_uri": "https://localhost:8080/"
        },
        "id": "ed3r9wHIvhXn",
        "outputId": "fc126b31-b61a-42af-d72a-db8eb9fcea65"
      },
      "execution_count": 68,
      "outputs": [
        {
          "name": "stdout",
          "output_type": "stream",
          "text": [
            "################\n",
            "\n",
            "# 1. 덧셈        #\n",
            "# 2. 뺄셈        #\n",
            "# 3. 나눗셈      #\n",
            "# 4. 곱셈        #\n",
            "# 5. 종료        #\n",
            "메뉴를 선택 : 1\n",
            "첫번째 숫자를 입력 1\n",
            "두번째 숫자를 입력 2\n",
            "두수의 덧셈결과 : 3.0\n",
            "################\n",
            "\n",
            "# 1. 덧셈        #\n",
            "# 2. 뺄셈        #\n",
            "# 3. 나눗셈      #\n",
            "# 4. 곱셈        #\n",
            "# 5. 종료        #\n",
            "메뉴를 선택 : 2\n",
            "첫번째 숫자를 입력 5\n",
            "두번째 숫자를 입력 3\n",
            "두수의 뺄셈결과 : 2.0\n",
            "################\n",
            "\n",
            "# 1. 덧셈        #\n",
            "# 2. 뺄셈        #\n",
            "# 3. 나눗셈      #\n",
            "# 4. 곱셈        #\n",
            "# 5. 종료        #\n",
            "메뉴를 선택 : 3\n",
            "첫번째 숫자를 입력 6\n",
            "두번째 숫자를 입력 2\n",
            "두수의 나눗셈결과 : 3.0\n",
            "################\n",
            "\n",
            "# 1. 덧셈        #\n",
            "# 2. 뺄셈        #\n",
            "# 3. 나눗셈      #\n",
            "# 4. 곱셈        #\n",
            "# 5. 종료        #\n",
            "메뉴를 선택 : 4\n",
            "첫번째 숫자를 입력 2\n",
            "두번째 숫자를 입력 7\n",
            "두수의 곱셈결과 : 14.0\n",
            "################\n",
            "\n",
            "# 1. 덧셈        #\n",
            "# 2. 뺄셈        #\n",
            "# 3. 나눗셈      #\n",
            "# 4. 곱셈        #\n",
            "# 5. 종료        #\n",
            "메뉴를 선택 : 5\n"
          ]
        }
      ]
    }
  ]
}