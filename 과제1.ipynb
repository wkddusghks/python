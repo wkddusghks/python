{
  "nbformat": 4,
  "nbformat_minor": 0,
  "metadata": {
    "colab": {
      "provenance": [],
      "authorship_tag": "ABX9TyOzPOOMlkICKt/WmlMw+2sg",
      "include_colab_link": true
    },
    "kernelspec": {
      "name": "python3",
      "display_name": "Python 3"
    },
    "language_info": {
      "name": "python"
    }
  },
  "cells": [
    {
      "cell_type": "markdown",
      "metadata": {
        "id": "view-in-github",
        "colab_type": "text"
      },
      "source": [
        "<a href=\"https://colab.research.google.com/github/wkddusghks/python/blob/main/%EA%B3%BC%EC%A0%9C1.ipynb\" target=\"_parent\"><img src=\"https://colab.research.google.com/assets/colab-badge.svg\" alt=\"Open In Colab\"/></a>"
      ]
    },
    {
      "cell_type": "code",
      "execution_count": 3,
      "metadata": {
        "colab": {
          "base_uri": "https://localhost:8080/"
        },
        "id": "idqNmxXoVUdG",
        "outputId": "fc5b6637-8466-4e60-9d91-26c006521239"
      },
      "outputs": [
        {
          "output_type": "stream",
          "name": "stdout",
          "text": [
            "## 택배를 보내기 위한 정보를 입력하세요. ##\n",
            "받는 사람 : 가나나\n",
            "주소 : 라라ㅏ랄\n",
            "무게(g) : 200\n",
            "** 받는 사람 ==>  가나나\n",
            "** 주소 ==>  라라ㅏ랄\n",
            "** 배송비 ==>  1000\n"
          ]
        }
      ],
      "source": [
        "print(\"## 택배를 보내기 위한 정보를 입력하세요. ##\")\n",
        "recieve_name = input(\"받는 사람 : \")\n",
        "address = input(\"주소 : \")\n",
        "weight = int(input(\"무게(g) : \"))\n",
        "print(\"** 받는 사람 ==> \", recieve_name)\n",
        "print(\"** 주소 ==> \", address)\n",
        "print(\"** 배송비 ==> \", weight*5)"
      ]
    }
  ]
}