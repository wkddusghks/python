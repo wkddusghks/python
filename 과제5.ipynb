{
  "nbformat": 4,
  "nbformat_minor": 0,
  "metadata": {
    "colab": {
      "provenance": [],
      "authorship_tag": "ABX9TyNePD2js91KzeKWZbXHmHjG",
      "include_colab_link": true
    },
    "kernelspec": {
      "name": "python3",
      "display_name": "Python 3"
    },
    "language_info": {
      "name": "python"
    }
  },
  "cells": [
    {
      "cell_type": "markdown",
      "metadata": {
        "id": "view-in-github",
        "colab_type": "text"
      },
      "source": [
        "<a href=\"https://colab.research.google.com/github/wkddusghks/python/blob/main/%EA%B3%BC%EC%A0%9C5.ipynb\" target=\"_parent\"><img src=\"https://colab.research.google.com/assets/colab-badge.svg\" alt=\"Open In Colab\"/></a>"
      ]
    },
    {
      "cell_type": "code",
      "execution_count": null,
      "metadata": {
        "id": "_AZK-lBKVTcF"
      },
      "outputs": [],
      "source": [
        "score = int(input(\"정보처리기능사 실기 점수 입력 : \"))\n",
        "\n",
        "if score >= 60 :\n",
        "  print(\"합격\")\n",
        "  print(\"축하합니다\")\n",
        "\n",
        "else :\n",
        "  print(\"불합격\") "
      ]
    },
    {
      "cell_type": "code",
      "source": [
        "# 한줄 주석문 연습\n",
        "\"\"\"\n",
        "프로그래밍 수업 : 3월 20일\n",
        "프로그래머 : 장연환\n",
        "프로그램 최종작성일 : 3월 20일\n",
        "프로그램명 : 학점 계산 프로그램\n",
        "\"\"\"\n",
        "\n",
        "print(\"파이썬(3) : B(3.5) \\n\")\n",
        "print(\"모바일(2) : A0(4.0) \\n\")\n",
        "print(\"엑셀(1) : A(4.5) \\n\")\n",
        "python = float(input(\"파이썬 성적을 입력(예,3.5)\"))\n",
        "mobile = float(input(\"모바일 성적을 입력\"))\n",
        "excel = float(input(\"엑셀 성적을 입력\"))\n",
        "\n",
        "result = (python * 3) + (mobile * 2) + excel\n",
        "avg = result / 6\n",
        "\n",
        "print(\"평균 학점은\", round(avg, 3))\n"
      ],
      "metadata": {
        "id": "5LogFvOSYBTF"
      },
      "execution_count": null,
      "outputs": []
    },
    {
      "cell_type": "code",
      "source": [
        "print(\"\\n줄바꿈\\n연습 \")\n",
        "print(\"\\t탭키\\t연습\")\n",
        "print(\"어떤 글자를 \\\"강조\\\"하는 효과1\")\n",
        "print(\"어떤 글자를 \\'강조\\'하는 효과2\")\n",
        "print(\"\\\\\\\\ 백슬래시 2개 출력\")"
      ],
      "metadata": {
        "id": "ykMbgvBwbHJm"
      },
      "execution_count": null,
      "outputs": []
    },
    {
      "cell_type": "code",
      "source": [
        "first = input(\"첫 번째문자열 ==> \")\n",
        "sec = input(\"두 번째문자열 ==> \")\n",
        "len1 = len(first)\n",
        "len2 = len(sec)\n",
        "a = len1 - len2 \n",
        "print(\"두 문자열의 길이 차이는\", a, \"입니다.\")"
      ],
      "metadata": {
        "id": "xi5ogNhqeo9g"
      },
      "execution_count": null,
      "outputs": []
    },
    {
      "cell_type": "code",
      "source": [
        "str = \"\"\"\n",
        "안산공업고등학교 컴퓨터과, 안산공업고등학교는\n",
        "기계과, 전기과, 전자과, 화공과, 디자인과, 컴퓨터과로 총 6개의\n",
        "과로 이뤄지고있습니다.\n",
        "\"\"\"\n",
        "strlen = str.count(\"안산\")\n",
        "print(strlen)"
      ],
      "metadata": {
        "id": "LAbhbYI-jLQh"
      },
      "execution_count": null,
      "outputs": []
    },
    {
      "cell_type": "code",
      "source": [
        "# 렛잇비 가사가 몇번나오는지 확인하는 프로그램\n",
        "#upper(), lower()\n",
        "\n",
        "str = \"\"\"\n",
        "When I find myself in times of trouble, Mother Mary comes to me\n",
        "Speaking words of wisdom, let it be\n",
        "And in my hour of darkness she is standing right in front of me\n",
        "Speaking words of wisdom, let it be\n",
        "Let it be, let it be, let it be, let it be\n",
        "Whisper words of wisdom, let it be\n",
        "And when the broken hearted people living in the world agree\n",
        "There will be an answer, let it be\n",
        "For though they may be parted, there is still a chance that they will see\n",
        "There will be an answer, let it be\n",
        "Let it be, let it be, let it be, let it be\n",
        "There will be an answer, let it be\n",
        "Let it be, let it be, let it be, let it be\n",
        "Whisper words of wisdom, let it be\n",
        "Let it be, let it be, let it be, let it be\n",
        "Whisper words of wisdom, let it be, be\n",
        "And when the night is cloudy there is still a light that shines on me\n",
        "Shinin' until tomorrow, let it be\n",
        "I wake up to the sound of music, Mother Mary comes to me\n",
        "Speaking words of wisdom, let it be\n",
        "And let it be, let it be, let it be, let it be\n",
        "Whisper words of wisdom, let it be\n",
        "And let it be, let it be, let it be, let it be\n",
        "Whisper words of wisdom, let it be\n",
        "\"\"\"\n",
        "a = str.lower()\n",
        "strlen = a.count(\"let it be\")\n",
        "print(strlen)"
      ],
      "metadata": {
        "colab": {
          "base_uri": "https://localhost:8080/"
        },
        "id": "7Fu_fFV9j99q",
        "outputId": "5f2b0d10-1c1f-403d-802d-f8af5ed44d9b"
      },
      "execution_count": 12,
      "outputs": [
        {
          "output_type": "stream",
          "name": "stdout",
          "text": [
            "36\n"
          ]
        }
      ]
    }
  ]
}