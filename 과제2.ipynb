{
  "nbformat": 4,
  "nbformat_minor": 0,
  "metadata": {
    "colab": {
      "provenance": [],
      "authorship_tag": "ABX9TyMQp7WfmOa1B3YkjKP82ORq",
      "include_colab_link": true
    },
    "kernelspec": {
      "name": "python3",
      "display_name": "Python 3"
    },
    "language_info": {
      "name": "python"
    }
  },
  "cells": [
    {
      "cell_type": "markdown",
      "metadata": {
        "id": "view-in-github",
        "colab_type": "text"
      },
      "source": [
        "<a href=\"https://colab.research.google.com/github/wkddusghks/python/blob/main/%EA%B3%BC%EC%A0%9C2.ipynb\" target=\"_parent\"><img src=\"https://colab.research.google.com/assets/colab-badge.svg\" alt=\"Open In Colab\"/></a>"
      ]
    },
    {
      "cell_type": "code",
      "execution_count": 12,
      "metadata": {
        "colab": {
          "base_uri": "https://localhost:8080/"
        },
        "id": "Iwe0-w1JGM3S",
        "outputId": "76a3a23f-f5ba-474d-a158-57784de523ad"
      },
      "outputs": [
        {
          "output_type": "stream",
          "name": "stdout",
          "text": [
            "숫자1 ==> 100\n",
            "숫자2 ==> 10\n",
            "100 + 10 = 110\n",
            "100 - 10 = 90\n",
            "100 * 10 = 1000\n",
            "100 / 10 = 10.0\n",
            "100 % 10 = 0\n",
            "100 ** 10 = 100000000000000000000\n"
          ]
        }
      ],
      "source": [
        "num1 = int(input(\"숫자1 ==> \"))\n",
        "num2 = int(input(\"숫자2 ==> \"))\n",
        "\n",
        "sum1 = num1 + num2\n",
        "sum2 = num1 - num2\n",
        "sum3 = num1 * num2\n",
        "sum4 = num1 / num2\n",
        "sum5 = num1 % num2\n",
        "sum6 = num1 ** num2\n",
        "\n",
        "print(num1, \"+\", num2, \"=\", sum1)\n",
        "print(num1, \"-\", num2, \"=\", sum2)\n",
        "print(num1, \"*\", num2, \"=\", sum3)\n",
        "print(num1, \"/\", num2, \"=\", sum4)\n",
        "print(num1, \"%\", num2, \"=\", sum5)\n",
        "print(num1, \"**\", num2, \"=\", sum6)\n",
        "\n"
      ]
    }
  ]
}