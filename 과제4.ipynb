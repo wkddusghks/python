{
  "nbformat": 4,
  "nbformat_minor": 0,
  "metadata": {
    "colab": {
      "provenance": [],
      "authorship_tag": "ABX9TyM/Y7K+1C1ULo1jkNBBfsqI",
      "include_colab_link": true
    },
    "kernelspec": {
      "name": "python3",
      "display_name": "Python 3"
    },
    "language_info": {
      "name": "python"
    }
  },
  "cells": [
    {
      "cell_type": "markdown",
      "metadata": {
        "id": "view-in-github",
        "colab_type": "text"
      },
      "source": [
        "<a href=\"https://colab.research.google.com/github/wkddusghks/python/blob/main/%EA%B3%BC%EC%A0%9C4.ipynb\" target=\"_parent\"><img src=\"https://colab.research.google.com/assets/colab-badge.svg\" alt=\"Open In Colab\"/></a>"
      ]
    },
    {
      "cell_type": "code",
      "execution_count": 20,
      "metadata": {
        "colab": {
          "base_uri": "https://localhost:8080/"
        },
        "id": "Iwe0-w1JGM3S",
        "outputId": "5bccff25-c27c-47fa-e7b6-955eccdb2b92"
      },
      "outputs": [
        {
          "output_type": "stream",
          "name": "stdout",
          "text": [
            "오늘 총 매출액은 11600 원입니다.\n"
          ]
        }
      ],
      "source": [
        "TriangleGimbap = 900\n",
        "bananamilk = 1800\n",
        "lunchbox = 3500\n",
        "lunchbox2 = 4000\n",
        "Cola = 1500\n",
        "Shrimpcrackers = 2000\n",
        "cannedcoffee = 1800\n",
        "\n",
        "purchaseprice = TriangleGimbap * 10 + lunchbox * 5\n",
        "salePrice = bananamilk * 2 + lunchbox2 *4 + Cola + Shrimpcrackers * 4 + cannedcoffee * 5\n",
        "\n",
        "print(\"오늘 총 매출액은\", salePrice  - purchaseprice, \"원입니다.\")\n"
      ]
    }
  ]
}