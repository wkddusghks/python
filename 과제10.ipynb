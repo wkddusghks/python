{
  "nbformat": 4,
  "nbformat_minor": 0,
  "metadata": {
    "colab": {
      "provenance": [],
      "authorship_tag": "ABX9TyN6nmx1qa+ABcFLfcyMHyaw",
      "include_colab_link": true
    },
    "kernelspec": {
      "name": "python3",
      "display_name": "Python 3"
    },
    "language_info": {
      "name": "python"
    }
  },
  "cells": [
    {
      "cell_type": "markdown",
      "metadata": {
        "id": "view-in-github",
        "colab_type": "text"
      },
      "source": [
        "<a href=\"https://colab.research.google.com/github/wkddusghks/python/blob/main/%EA%B3%BC%EC%A0%9C10.ipynb\" target=\"_parent\"><img src=\"https://colab.research.google.com/assets/colab-badge.svg\" alt=\"Open In Colab\"/></a>"
      ]
    },
    {
      "cell_type": "code",
      "execution_count": null,
      "metadata": {
        "id": "6IgOtrR-PwQo"
      },
      "outputs": [],
      "source": [
        "import random\n",
        "count = 0\n",
        "while True :\n",
        "  dice1 = random.randint(1,6)\n",
        "  dice2 = random.randint(1,6)\n",
        "  dice3 = random.randint(1,6)\n",
        "  count = count + 1 \n",
        "  if dice1 == dice2 == dice3:\n",
        "    print(\"주사위 3개가 모두\", dice1, \"이다.\")\n",
        "    print(\"같은 숫자가 나오기 까지\", count, \"번 던졌다.\")\n",
        "    break"
      ]
    },
    {
      "cell_type": "code",
      "source": [
        "import random\n",
        "\n",
        "count = 1\n",
        "computer_num = 0\n",
        "player = 0\n",
        "while count <= 10 :\n",
        "  computer_num = random.randint(1,5)\n",
        "  print(\"제\", count, \"회 : \", end = \" \")\n",
        "  player = int(input(\"컴퓨터가 생각한 숫자는? \"))\n",
        "  count = count + 1\n",
        "  if player == computer_num :\n",
        "    print(\"맞혔네요. 축하합니다!\")\n",
        "    print(\"게임을 마칩니다\")\n",
        "    break\n",
        "  else :\n",
        "    print(\"아까워요\", computer_num, \"였는데요. 다시 해보세요. ㅠ\")"
      ],
      "metadata": {
        "id": "qwDHyTblSFkk"
      },
      "execution_count": null,
      "outputs": []
    },
    {
      "cell_type": "code",
      "source": [
        "import random\n",
        "count = 0\n",
        "player = 0\n",
        "secret_number = random.sample(range(1,10),3)\n",
        "\n",
        "\n",
        "while count <= 10 :\n",
        "  print(secret_number)\n",
        "  st = 0\n",
        "  ball = 0\n",
        "  player = input(\"1~9까지의 숫자 3개를 입력 : \")\n",
        "  player = list(player)\n",
        "  player[0] = int(player[0])\n",
        "  player[1] = int(player[1])\n",
        "  player[2] = int(player[2])\n",
        "  if (secret_number[0] == player[0]) :\n",
        "    st = st + 1\n",
        "  elif player[0] in secret_number :\n",
        "    ball = ball + 1\n",
        "  if (secret_number[1] == player[1]) :\n",
        "    st = st + 1\n",
        "  elif player[1] in secret_number :\n",
        "    ball = ball + 1\n",
        "  if (secret_number[2] == player[2]) :\n",
        "    st = st + 1\n",
        "  elif player[2] in secret_number :\n",
        "    ball = ball + 1\n",
        "  \n",
        "  print(st,\"-스트라이크  //\", ball, \"-볼\")\n",
        "  if st == 3 :\n",
        "    print(\"승리\")\n",
        "    break"
      ],
      "metadata": {
        "id": "BPK_dveyWpPV"
      },
      "execution_count": null,
      "outputs": []
    }
  ]
}