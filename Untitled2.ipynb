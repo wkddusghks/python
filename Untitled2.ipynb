{
  "nbformat": 4,
  "nbformat_minor": 0,
  "metadata": {
    "colab": {
      "provenance": [],
      "authorship_tag": "ABX9TyM2C5dePZPrZLXn+PE6oxge",
      "include_colab_link": true
    },
    "kernelspec": {
      "name": "python3",
      "display_name": "Python 3"
    },
    "language_info": {
      "name": "python"
    }
  },
  "cells": [
    {
      "cell_type": "markdown",
      "metadata": {
        "id": "view-in-github",
        "colab_type": "text"
      },
      "source": [
        "<a href=\"https://colab.research.google.com/github/wkddusghks/python/blob/main/Untitled2.ipynb\" target=\"_parent\"><img src=\"https://colab.research.google.com/assets/colab-badge.svg\" alt=\"Open In Colab\"/></a>"
      ]
    },
    {
      "cell_type": "markdown",
      "source": [
        "# 제목\n",
        "\n",
        "## 타이틀\n",
        "\n",
        "컴퓨터과 3학년 1반\n",
        "\n",
        "\n",
        "장연환\n"
      ],
      "metadata": {
        "id": "d5UpqyULFsCg"
      }
    },
    {
      "cell_type": "code",
      "execution_count": null,
      "metadata": {
        "id": "6hvNuuXSFagx"
      },
      "outputs": [],
      "source": [
        "print(\"오늘은 금요일\")\n",
        "print(\"나혼자 심심해\")"
      ]
    },
    {
      "cell_type": "code",
      "source": [
        "print(\"친구랑 게임한판!!\")"
      ],
      "metadata": {
        "id": "71m4Y-ysGdfe"
      },
      "execution_count": null,
      "outputs": []
    }
  ]
}